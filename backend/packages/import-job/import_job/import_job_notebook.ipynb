{
 "cells": [
  {
   "cell_type": "code",
   "execution_count": 37,
   "metadata": {
    "vscode": {
     "languageId": "shellscript"
    }
   },
   "outputs": [
    {
     "name": "stdout",
     "output_type": "stream",
     "text": [
      "Requirement already satisfied: faiss-cpu in /usr/local/python/3.11.8/lib/python3.11/site-packages (1.8.0)\n",
      "Requirement already satisfied: readabilipy in /usr/local/python/3.11.8/lib/python3.11/site-packages (0.2.0)\n",
      "Requirement already satisfied: numpy in /usr/local/python/3.11.8/lib/python3.11/site-packages (from faiss-cpu) (1.26.4)\n",
      "Requirement already satisfied: beautifulsoup4>=4.7.1 in /usr/local/python/3.11.8/lib/python3.11/site-packages (from readabilipy) (4.12.3)\n",
      "Requirement already satisfied: html5lib in /usr/local/python/3.11.8/lib/python3.11/site-packages (from readabilipy) (1.1)\n",
      "Requirement already satisfied: lxml in /usr/local/python/3.11.8/lib/python3.11/site-packages (from readabilipy) (5.2.1)\n",
      "Requirement already satisfied: regex in /usr/local/python/3.11.8/lib/python3.11/site-packages (from readabilipy) (2023.12.25)\n",
      "Requirement already satisfied: soupsieve>1.2 in /usr/local/python/3.11.8/lib/python3.11/site-packages (from beautifulsoup4>=4.7.1->readabilipy) (2.5)\n",
      "Requirement already satisfied: six>=1.9 in /root/.local/lib/python3.11/site-packages (from html5lib->readabilipy) (1.16.0)\n",
      "Requirement already satisfied: webencodings in /usr/local/python/3.11.8/lib/python3.11/site-packages (from html5lib->readabilipy) (0.5.1)\n",
      "\u001b[33mWARNING: Running pip as the 'root' user can result in broken permissions and conflicting behaviour with the system package manager. It is recommended to use a virtual environment instead: https://pip.pypa.io/warnings/venv\u001b[0m\u001b[33m\n",
      "\u001b[0m"
     ]
    }
   ],
   "source": [
    "! pip install faiss-cpu readabilipy"
   ]
  },
  {
   "cell_type": "code",
   "execution_count": 38,
   "metadata": {},
   "outputs": [],
   "source": [
    "# Helper function for printing docs\n",
    "\n",
    "\n",
    "def pretty_print_docs(docs):\n",
    "    print(\n",
    "        f\"\\n{'-' * 100}\\n\".join(\n",
    "            [f\"Document {i+1}:\\n\\n\" + d.page_content for i, d in enumerate(docs)]\n",
    "        )\n",
    "    )"
   ]
  },
  {
   "cell_type": "code",
   "execution_count": 39,
   "metadata": {},
   "outputs": [
    {
     "name": "stdout",
     "output_type": "stream",
     "text": [
      "/workspace/resume-coach/backend/packages/import-job/import_job\n"
     ]
    },
    {
     "data": {
      "text/plain": [
       "True"
      ]
     },
     "execution_count": 39,
     "metadata": {},
     "output_type": "execute_result"
    }
   ],
   "source": [
    "from dotenv import load_dotenv\n",
    "import os\n",
    "\n",
    "current_directory = os.getcwd()\n",
    "print(current_directory)\n",
    "\n",
    "# take environment variables from .env.\n",
    "load_dotenv(dotenv_path=\"../../../.env\")\n"
   ]
  },
  {
   "cell_type": "code",
   "execution_count": 42,
   "metadata": {},
   "outputs": [
    {
     "name": "stdout",
     "output_type": "stream",
     "text": [
      "Document 1:\n",
      "\n",
      "Google hiring Software Engineering Manager II, Machine Learning, Google Cloud in San Francisco, CA | LinkedIn Agree & Join LinkedIn By clicking Continue, you agree to LinkedIn’s User Agreement, Privacy Policy, and Cookie Policy. Skip to main content LinkedIn Software Engineering Manager II, Machine Learning, Google Cloud in San Jose, CA Expand search This button displays the currently selected search type. When expanded it provides a list of search options that will switch the search inputs to match the current selection. Jobs People Learning Clear text Clear text Clear text Clear text Clear text Join now Sign in Software Engineering Manager II, Machine Learning, Google Cloud Google San Francisco, CA Apply Join or sign in to find your next job Join to apply for the Software Engineering Manager II, Machine Learning, Google Cloud role at Google Not you? Remove photo First name Last name Email Password (6+ characters) By clicking Agree & Join, you agree to the LinkedIn User Agreement, Privacy Policy and Cookie Policy. Continue Agree & Join or You may also apply directly on company website. Security verification Already on LinkedIn? Sign in Software Engineering Manager II, Machine Learning, Google Cloud Google San Francisco, CA 2 weeks ago Be among the first 25 applicants See who Google has hired for this role Apply Join or sign in to find your next job Join to apply for the Software Engineering Manager II, Machine Learning, Google Cloud role at Google Not you? Remove photo First name Last name Email Password (6+ characters) By clicking Agree & Join, you agree to the LinkedIn User Agreement, Privacy Policy and Cookie Policy. Continue Agree & Join or You may also apply directly on company website. Security verification Already on LinkedIn? Sign in Save Save job Save this job with your existing LinkedIn profile, or create a new one. Your job seeking activity is only visible to you. Email Continue Welcome back Sign in to save Software Engineering Manager II, Machine Learning, Google Cloud at Google. Email or phone Password Show Forgot password? Sign in Report this job Pay found in job post Retrieved from the description. Base pay range $189,000.00/yr - $284,000.00/yr Note: By applying to this position you will have an opportunity to share your preferred working location from the following: San Francisco, CA, USA; Sunnyvale, CA, USA.Minimum qualifications:Bachelor's degree or equivalent practical experience. 8 years of experience with software development in one or more programming languages (e.g., Python, C, C++, Java, JavaScript).3 years of experience in a technical leadership role; overseeing strategic projects, with 2 years of experience in a people management, supervision/team leadership role.3 years of experience with machine learning algorithms and tools (e.g., TensorFlow), or applied ML (e.g., deep learning, natural language processing).Preferred qualifications:Master’s degree or PhD in Engineering, Computer Science, or a related technical field. 3 years of experience working in a complex, matrixed organization.About The JobLike Google's own ambitions, the work of a Software Engineer goes beyond just Search. Software Engineering Managers have not only the technical expertise to take on and provide technical leadership to major projects, but also manage a team of Engineers. You not only optimize your own code but make sure Engineers are able to optimize theirs. As a Software Engineering Manager you manage your project goals, contribute to product strategy and help develop your team. Teams work all across the company, in areas such as information retrieval, artificial intelligence, natural language processing, distributed computing, large-scale system design, networking, security, data compression, user interface design; the list goes on and is growing every day. Operating with scale and speed, our exceptional software engineers are just getting started -- and as a manager, you guide the way.With technical and leadership expertise, you manage engineers across multiple teams and locations, a large product budget and oversee the deployment of large-scale projects across multiple sites internationally.Google Cloud accelerates every organization’s ability to digitally transform its business and industry. We deliver enterprise-grade solutions that leverage Google’s cutting-edge technology, and tools that help developers build more sustainably. Customers in more than 200 countries and territories turn to Google Cloud as their trusted partner to enable growth and solve their most critical business problems.The US base salary range for this full-time position is $189,000-$284,000 + bonus + equity + benefits. Our salary ranges are determined by role, level, and location. The range displayed on each job posting reflects the minimum and maximum target salaries for the position across all US locations. Within the range, individual pay is determined by work location and additional factors, including job-related skills, experience, and relevant education or training. Your recruiter can share more about the specific salary range for your preferred location during the hiring process.Please note that the compensation details listed in US role postings reflect the base salary only, and do not include bonus, equity, or benefits. Learn more about benefits at Google .ResponsibilitiesSet and communicate team priorities that support the broader organization's goals. Align strategy, processes, and decision-making across teams. Set clear expectations with individuals based on their level and role and aligned to the broader organization's goals. Meet regularly with individuals to discuss performance and development and provide feedback and coaching. Develop the mid-term technical vision and roadmap within the scope of your (often multiple) team(s). Evolve the roadmap to meet anticipated future requirements and infrastructure needs. Design, guide and vet systems designs within the scope of the broader area, and write product or system development code to solve ambiguous problems. Review code developed by other engineers and provide feedback to ensure best practices (e.g., style guidelines, checking code in, accuracy, testability, and efficiency).Google is proud to be an equal opportunity workplace and is an affirmative action employer. We are committed to equal employment opportunity regardless of race, color, ancestry, religion, sex, national origin, sexual orientation, age, citizenship, marital status, disability, gender identity or Veteran status. We also consider qualified applicants regardless of criminal histories, consistent with legal requirements. See also Google's EEO Policy and EEO is the Law. If you have a disability or special need that requires accommodation, please let us know by completing our Accommodations for Applicants form . Show more Show less Seniority level Not Applicable Employment type Full-time Job function Information Technology and Engineering Industries Information Services and Technology, Information and Internet Referrals increase your chances of interviewing at Google by 2x See who you know Get notified about new Software Engineering Manager jobs in San Francisco, CA. Sign in to create job alert Similar jobs Director, Software Engineering Director, Software Engineering Primer.ai San Francisco, CA $245,000.00 - $295,000.00 4 months ago Director of Engineering Director of Engineering The RealReal San Francisco, CA $241,288.00 - $271,449.00 2 weeks ago Vice President, Software Engineering Vice President, Software Engineering Zendesk San Francisco, CA 1 week ago Head of Engineering Head of Engineering Fieldguide San Francisco, CA $220,000.00 - $270,000.00 2 weeks ago Head of Engineering Head of Engineering Partnology Berkeley, CA $250,000.00 - $400,000.00 3 weeks ago Director, Software Engineering Director, Software Engineering Rippling San Francisco, CA $210,000.00 - $367,500.00 1 month ago Software Engineering Manager, Infrastructure Software Engineering Manager, Infrastructure Meta Burlingame, CA $177,000.00 - $251,000.00 2 weeks ago Manager/Director, Software Engineering (Hybrid CA- Bay Area) Manager/Director, Software Engineering (Hybrid CA- Bay Area) VIVIO, a Public Benefit Corporation Hayward, CA 2 weeks ago VP of Engineering VP of Engineering Aircapture Berkeley, CA $220,000.00 - $265,000.00 5 days ago Head of Engineering Head of Engineering 18C San Francisco, CA 3 weeks ago Head of Embedded Software Head of Embedded Software Zipline South San Francisco, CA $180,000.00 - $230,000.00 1 month ago Engineering Manager, Edge Device Applications Engineering Manager, Edge Device Applications Hayden AI San Francisco, CA 8 hours ago Software & ML Engineering Manager Software & ML Engineering Manager Verily South San Francisco, CA $174,000.00 - $276,000.00 3 weeks ago VP, Engineering VP, Engineering Jerry San Francisco, CA 2 weeks ago Software Engineering Manager - VR Operating Systems Software Engineering Manager - VR Operating Systems Meta Burlingame, CA $177,000.00 - $251,000.00 1 month ago Software Engineering Manager, Infrastructure Software Engineering Manager, Infrastructure Meta San Francisco, CA $177,000.00 - $251,000.00 12 hours ago Founding VP of Engineering Founding VP of Engineering Artisan AI (YC W24) San Francisco, CA $120,000.00 - $200,000.00 1 month ago Software Engineering Manager (C++) Software Engineering Manager (C++) HealthCare Recruiters International Belmont, CA 2 weeks ago Head of Engineering Head of Engineering EcoCart San Francisco, CA $225,000.00 - $275,000.00 1 week ago Software Engineering Manager, Product Infrastructure Software Engineering Manager, Product Infrastructure Meta San Francisco, CA $177,000.00 - $251,000.00 1 week ago Manager, Software Engineering - Smart Glasses Manager, Software Engineering - Smart Glasses Meta Burlingame, CA $213,000.00 - $293,000.00 1 month ago Software Engineering Manager Software Engineering Manager Kapwing San Francisco, CA $195,000.00 - $245,000.00 1 month ago Vice President of Engineering - SF Vice President of Engineering - SF Focal Systems San Francisco, CA 4 months ago Director of Engineering Director of Engineering Coalesce.io Daly City, CA $215,000.00 - $270,000.00 2 weeks ago Director, Engineering Director, Engineering Descript San Francisco, CA 3 months ago Director of Engineering - Machine Learning and AI Director of Engineering - Machine Learning and AI Rippling San Francisco, CA $216,000.00 - $378,000.00 1 month ago Director of Engineering Director of Engineering Coalesce.io San Francisco, CA $215,000.00 - $270,000.00 2 weeks ago Show more jobs like this Show fewer jobs like this People also viewed Software Engineering Manager, OpenXR Software Engineering Manager, OpenXR Meta Burlingame, CA $177,000.00 - $251,000.00 3 days ago Director, Machine Learning Director, Machine Learning Suki Redwood City, CA $280,000.00 - $315,000.00 1 month ago Engineering Manager, AI Platform Engineering Manager, AI Platform Descript San Francisco, CA $190,000.00 - $240,000.00 1 month ago Vice President of Engineering Vice President of Engineering Focal Systems San Francisco, CA 4 months ago Software Engineering Manager, Machine Learning Software Engineering Manager, Machine Learning Meta Burlingame, CA $177,000.00 - $251,000.00 1 month ago Head of Software Engineering Head of Software Engineering Recruiting from Scratch Emeryville, CA 5 months ago Engineering Manager, API Engineering Manager, API Asana San Francisco, CA $220,000.00 - $336,000.00 2 weeks ago Software Engineering Manager Software Engineering Manager U.S. Bank San Francisco, CA $135,150.00 - $174,900.00 2 weeks ago Director of Engineering Director of Engineering Siena AI San Francisco, CA 1 week ago Software Development Director Software Development Director Oracle Redwood City, CA $120,300.00 - $291,900.00 1 week ago Similar Searches Software Engineering Manager jobs 77,820 open jobs Senior Software Specialist jobs 68,640 open jobs Development Manager jobs 317,820 open jobs Senior Staff Engineer jobs 56,419 open jobs Control System Engineer jobs 37,377 open jobs Senior Engineering Manager jobs 20,940 open jobs Engineering Manager jobs 197,372 open jobs Staff Software Engineer jobs 76,990 open jobs Senior Manager jobs 230,444 open jobs Control Engineer jobs 49,952 open jobs Control Specialist jobs 14,976 open jobs Architect jobs 159,792 open jobs Manager jobs 2,003,890 open jobs Principal Engineer jobs 196,646 open jobs Principal Software Architect jobs 50,546 open jobs Engineer jobs 608,159 open jobs Senior Software Engineering Manager jobs 67,284 open jobs Program Manager jobs 269,470 open jobs Director jobs 1,374,979 open jobs Software Engineering Team Lead jobs 438,297 open jobs User Experience Manager jobs 23,438 open jobs Pilot jobs 49,580 open jobs Senior Software Engineer jobs 101,375 open jobs Technical Lead jobs 250,671 open jobs Technical Manager jobs 157,230 open jobs Show more Show less Explore collaborative articles We’re unlocking community knowledge in a new way. Experts add insights directly into each article, started with the help of AI. Explore More More searches More searches Software Engineering Manager jobs Senior Software Specialist jobs Flix jobs Collibra jobs Development Manager jobs Senior Staff Engineer jobs Control System Engineer jobs Senior Engineering Manager jobs Engineering Manager jobs Google jobs Lyft jobs Staff Software Engineer jobs Coinbase jobs Amazon Web Services (AWS) jobs LinkedIn jobs Senior Manager jobs Control Engineer jobs Control Specialist jobs Microsoft jobs Architect jobs Salesforce jobs Manager jobs Principal Engineer jobs Principal Software Architect jobs Engineer jobs AMD jobs Senior Software Engineering Manager jobs Program Manager jobs Bayer jobs Director jobs ScienceLogic jobs Deloitte jobs Software Engineering Team Lead jobs User Experience Manager jobs Pilot jobs DataRobot jobs Senior Software Engineer jobs Technical Lead jobs HashiCorp jobs Technical Manager jobs Senior Staff Software Engineer jobs Division Vice President jobs Director of Engineering jobs Twilio jobs Atlassian jobs Lead jobs CAPTRUST jobs Software Engineer jobs Ambassador jobs Software Program Manager jobs Odoo jobs Amazon jobs Databricks jobs Liberty Mutual Insurance jobs Meta jobs Engineering Program Manager jobs Stripe jobs Airbnb jobs Epic Games jobs Data Manager jobs LinkedIn © 2024 About Accessibility User Agreement Privacy Policy Your California Privacy Choices Cookie Policy Copyright Policy Brand Policy Guest Controls Community Guidelines العربية (Arabic) Čeština (Czech) Dansk (Danish) Deutsch (German) English (English) Español (Spanish) Français (French) हिंदी (Hindi) Bahasa Indonesia (Indonesian) Italiano (Italian) 日本語 (Japanese) 한국어 (Korean) Bahasa Malaysia (Malay) Nederlands (Dutch) Norsk (Norwegian) Polski (Polish) Português (Portuguese) Română (Romanian) Русский (Russian) Svenska (Swedish) ภาษาไทย (Thai) Tagalog (Tagalog) Türkçe (Turkish) Українська (Ukrainian) 简体中文 (Chinese (Simplified)) 正體中文 (Chinese (Traditional)) Language Save time applying to future jobs You can save your resume and apply to jobs in minutes on LinkedIn Sign in Join now You’re signed out Sign in for the full experience. Sign in Join now\n"
     ]
    }
   ],
   "source": [
    "from langchain_community.document_loaders import WebBaseLoader\n",
    "from import_job.text_transformers import ReadibilityPyDocumentTransformer\n",
    "\n",
    "loader = WebBaseLoader(\"https://www.linkedin.com/jobs/view/3860575851\")\n",
    "transformer = ReadibilityPyDocumentTransformer()\n",
    "\n",
    "docs = loader.load()\n",
    "docs_transformed = transformer.transform_documents(docs)\n",
    "\n",
    "pretty_print_docs(docs_transformed)"
   ]
  },
  {
   "cell_type": "code",
   "execution_count": 43,
   "metadata": {},
   "outputs": [],
   "source": [
    "from langchain_community.vectorstores import FAISS\n",
    "from langchain_text_splitters import RecursiveCharacterTextSplitter\n",
    "from langchain_openai import OpenAIEmbeddings\n",
    "\n",
    "embeddings = OpenAIEmbeddings()\n",
    "text_splitter = RecursiveCharacterTextSplitter()\n",
    "documents = text_splitter.split_documents(docs_transformed)\n",
    "\n",
    "vector = FAISS.from_documents(documents, embeddings)\n",
    "retriever = vector.as_retriever()"
   ]
  },
  {
   "cell_type": "code",
   "execution_count": null,
   "metadata": {},
   "outputs": [],
   "source": [
    "from langchain.chains.combine_documents import create_stuff_documents_chain\n",
    "from langchain.chains import create_retrieval_chain\n",
    "from langchain.prompts import ChatPromptTemplate\n",
    "from langchain_openai import OpenAI\n",
    "\n",
    "model = OpenAI(temperature=0)\n",
    "\n",
    "prompt = ChatPromptTemplate.from_template(\"\"\"You are givent plain text contents of a web page of a job posting. Contents may include text from navigational elements like headers, footers, sidebars etc. Your task is to questions related to the job description. :\n",
    "\n",
    "<job_posting_page>\n",
    "{context}\n",
    "</job_posting_page>\n",
    "\n",
    "Question: {input}\"\"\")\n",
    "\n",
    "document_chain = create_stuff_documents_chain(model, prompt)\n",
    "retrieval_chain = create_retrieval_chain(retriever, document_chain)\n"
   ]
  },
  {
   "cell_type": "code",
   "execution_count": 45,
   "metadata": {},
   "outputs": [],
   "source": [
    "question = 'who is the employer?'\n",
    "\n",
    "docs = retriever.get_relevant_documents(question)\n",
    "\n",
    "# pretty_print_docs(docs)\n",
    "\n",
    "# out = retrieval_chain.invoke(question)\n",
    "# print(\"out:\", out)\n"
   ]
  },
  {
   "cell_type": "code",
   "execution_count": 25,
   "metadata": {},
   "outputs": [
    {
     "name": "stderr",
     "output_type": "stream",
     "text": [
      "/usr/local/python/3.11.8/lib/python3.11/site-packages/langchain/chains/llm.py:316: UserWarning: The predict_and_parse method is deprecated, instead pass an output parser directly to LLMChain.\n",
      "  warnings.warn(\n",
      "/usr/local/python/3.11.8/lib/python3.11/site-packages/langchain/chains/llm.py:316: UserWarning: The predict_and_parse method is deprecated, instead pass an output parser directly to LLMChain.\n",
      "  warnings.warn(\n",
      "/usr/local/python/3.11.8/lib/python3.11/site-packages/langchain/chains/llm.py:316: UserWarning: The predict_and_parse method is deprecated, instead pass an output parser directly to LLMChain.\n",
      "  warnings.warn(\n",
      "/usr/local/python/3.11.8/lib/python3.11/site-packages/langchain/chains/llm.py:316: UserWarning: The predict_and_parse method is deprecated, instead pass an output parser directly to LLMChain.\n",
      "  warnings.warn(\n"
     ]
    },
    {
     "name": "stdout",
     "output_type": "stream",
     "text": [
      "Document 1:\n",
      "\n",
      "Emeryville, CA 5 months ago Engineering Manager, API Engineering Manager, API Asana San Francisco, CA $220,000.00 - $336,000.00 2 weeks ago Software Engineering Manager Software Engineering Manager U.S. Bank San Francisco, CA $135,150.00 - $174,900.00 2 weeks ago Director of Engineering Director of Engineering Siena AI San Francisco, CA 1 week ago Software Development Director Software Development Director Oracle Redwood City, CA $120,300.00 - $291,900.00 1 week ago\n",
      "----------------------------------------------------------------------------------------------------\n",
      "Document 2:\n",
      "\n",
      "Google hiring Software Engineering Manager II, Machine Learning, Google Cloud in San Francisco, CA | LinkedIn Agree & Join LinkedIn By clicking Continue, you agree to LinkedIn’s User Agreement, Privacy Policy, and Cookie Policy. Skip to main content LinkedIn Software Engineering Manager II, Machine Learning, Google Cloud in San Jose, CA Expand search This button displays the currently selected search type. When expanded it provides a list of search options that will switch the search inputs to match the current selection. Jobs People Learning Clear text Clear text Clear text Clear text Clear text Join now Sign in Software Engineering Manager II, Machine Learning, Google Cloud Google San Francisco, CA Apply Join or sign in to find your next job Join to apply for the Software Engineering Manager II, Machine Learning, Google Cloud role at Google Not you? Remove photo First name Last name Email Password (6+ characters) By clicking Agree & Join, you agree to the LinkedIn User Agreement, Privacy Policy and Cookie Policy. Continue Agree & Join or You may also apply directly on company website. Security verification Already on LinkedIn? Sign in Software Engineering Manager II, Machine Learning, Google Cloud Google San Francisco, CA 2 weeks ago Be among the first 25 applicants See who Google has hired for this role Apply Join or sign in to find your next\n",
      "----------------------------------------------------------------------------------------------------\n",
      "Document 3:\n",
      "\n",
      "Google is proud to be an equal opportunity workplace and is an affirmative action employer. We are committed to equal employment opportunity regardless of race, color, ancestry, religion, sex, national origin, sexual orientation, age, citizenship, marital status, disability, gender identity or Veteran status. We also consider qualified applicants regardless of criminal histories, consistent with legal requirements. See also Google's EEO Policy and EEO is the Law.\n",
      "----------------------------------------------------------------------------------------------------\n",
      "Document 4:\n",
      "\n",
      "Head of Engineering Head of Engineering Fieldguide San Francisco, CA $220,000.00 - $270,000.00 2 weeks ago\n"
     ]
    }
   ],
   "source": [
    "from langchain.retrievers import ContextualCompressionRetriever\n",
    "from langchain.retrievers.document_compressors import LLMChainExtractor\n",
    "\n",
    "compressor = LLMChainExtractor.from_llm(model)\n",
    "compression_retriever = ContextualCompressionRetriever(\n",
    "    base_compressor=compressor, base_retriever=retriever\n",
    ")\n",
    "\n",
    "compressed_docs = compression_retriever.get_relevant_documents(\n",
    "    question\n",
    ")\n",
    "pretty_print_docs(compressed_docs)"
   ]
  }
 ],
 "metadata": {
  "kernelspec": {
   "display_name": "Python 3",
   "language": "python",
   "name": "python3"
  },
  "language_info": {
   "codemirror_mode": {
    "name": "ipython",
    "version": 3
   },
   "file_extension": ".py",
   "mimetype": "text/x-python",
   "name": "python",
   "nbconvert_exporter": "python",
   "pygments_lexer": "ipython3",
   "version": "3.11.8"
  }
 },
 "nbformat": 4,
 "nbformat_minor": 2
}
